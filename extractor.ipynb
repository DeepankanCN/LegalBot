{
 "cells": [
  {
   "cell_type": "code",
   "execution_count": 1,
   "metadata": {},
   "outputs": [],
   "source": [
    "import json\n",
    "\n",
    "from langchain_community.document_transformers import DoctranPropertyExtractor\n",
    "from langchain_core.documents import Document"
   ]
  },
  {
   "cell_type": "code",
   "execution_count": 2,
   "metadata": {},
   "outputs": [],
   "source": [
    "\n",
    "from langchain_community.document_loaders import PyPDFLoader\n",
    "from langchain.chains.summarize import load_summarize_chain\n",
    "\n",
    "from langchain_openai import ChatOpenAI,OpenAI\n",
    "import langchain \n",
    "langchain.debug=True\n",
    "loader = PyPDFLoader(\"3.pdf\")\n",
    "docs=loader.load()"
   ]
  },
  {
   "cell_type": "code",
   "execution_count": 3,
   "metadata": {},
   "outputs": [],
   "source": [
    "from dotenv import load_dotenv\n",
    "import os\n",
    "\n",
    "load_dotenv(override=True)\n",
    "\n",
    "api_key = os.getenv('open_ai_key')\n"
   ]
  },
  {
   "cell_type": "code",
   "execution_count": 6,
   "metadata": {},
   "outputs": [],
   "source": [
    "properties = [\n",
    "    {\n",
    "        \"name\": \"category\",\n",
    "        \"description\": \"What should be the title for this document\",\n",
    "        \"type\": \"string\",\n",
    "        \"required\": True,\n",
    "    },\n",
    "    {\n",
    "        \"name\": \"Technologies \",\n",
    "        \"description\": \"A list of all the technologies mentioned in the document.\",\n",
    "        \"type\": \"array\",\n",
    "        \"items\": {\n",
    "            \"name\": \"Techno\",\n",
    "            \"description\": \"The name of the technology mentioned.\",\n",
    "            \"type\": \"string\",\n",
    "        },\n",
    "        \"required\": True,\n",
    "    },\n",
    "    {\n",
    "        \"name\": \"eli5\",\n",
    "        \"description\": \"Explain this document to me like I'm 5 years old.\",\n",
    "        \"type\": \"string\",\n",
    "        \"required\": True,\n",
    "    },\n",
    "    {\n",
    "        \"name\": \"AI\",\n",
    "        \"description\": \"Get the info about AI in 50 words\",\n",
    "        \"type\": \"string\",\n",
    "        \"required\": True,\n",
    "    },\n",
    "]\n",
    "property_extractor = DoctranPropertyExtractor(properties=properties,openai_api_key=api_key, openai_api_model=\"gpt-3.5-turbo\")"
   ]
  },
  {
   "cell_type": "code",
   "execution_count": 7,
   "metadata": {},
   "outputs": [],
   "source": [
    "extracted_document = property_extractor.transform_documents(\n",
    "    docs, properties=properties\n",
    ")"
   ]
  },
  {
   "cell_type": "code",
   "execution_count": 8,
   "metadata": {},
   "outputs": [
    {
     "name": "stdout",
     "output_type": "stream",
     "text": [
      "{\n",
      "  \"source\": \"3.pdf\",\n",
      "  \"page\": 0,\n",
      "  \"extracted_properties\": {\n",
      "    \"category\": \"Emerging Trends\",\n",
      "    \"Technologies\": [\n",
      "      \"Artificial Intelligence\",\n",
      "      \"Big Data\",\n",
      "      \"Internet of Things (IoT)\",\n",
      "      \"Cloud Computing\",\n",
      "      \"Grid Computing\",\n",
      "      \"Blockchains\"\n",
      "    ],\n",
      "    \"eli5\": \"Computers are always getting better with new stuff. Some things stick around, some don't. We need to keep up with the new cool things. This chapter talks about new technologies that will be important for the digital world in the future.\",\n",
      "    \"AI\": \"Artificial Intelligence (AI) is like making machines smart like humans. It helps in things like guiding you on maps, recognizing faces in photos, and powering digital assistants like Siri and Alexa.\"\n",
      "  }\n",
      "}\n"
     ]
    }
   ],
   "source": [
    "print(json.dumps(extracted_document[0].metadata, indent=2))"
   ]
  },
  {
   "cell_type": "code",
   "execution_count": null,
   "metadata": {},
   "outputs": [],
   "source": []
  }
 ],
 "metadata": {
  "kernelspec": {
   "display_name": "legal",
   "language": "python",
   "name": "python3"
  },
  "language_info": {
   "codemirror_mode": {
    "name": "ipython",
    "version": 3
   },
   "file_extension": ".py",
   "mimetype": "text/x-python",
   "name": "python",
   "nbconvert_exporter": "python",
   "pygments_lexer": "ipython3",
   "version": "3.11.4"
  }
 },
 "nbformat": 4,
 "nbformat_minor": 2
}
